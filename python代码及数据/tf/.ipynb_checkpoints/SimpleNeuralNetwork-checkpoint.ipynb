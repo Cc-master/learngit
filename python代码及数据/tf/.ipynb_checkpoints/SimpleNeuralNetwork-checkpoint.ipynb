{
 "cells": [
  {
   "cell_type": "code",
   "execution_count": 1,
   "metadata": {
    "collapsed": true
   },
   "outputs": [],
   "source": [
    "#引入包\n",
    "import numpy as np\n",
    "import tensorflow as tf\n",
    "import matplotlib.pyplot as plt\n",
    "import input_data"
   ]
  },
  {
   "cell_type": "code",
   "execution_count": 2,
   "metadata": {
    "collapsed": false
   },
   "outputs": [
    {
     "name": "stdout",
     "output_type": "stream",
     "text": [
      "Extracting data/train-images-idx3-ubyte.gz\n",
      "Extracting data/train-labels-idx1-ubyte.gz\n",
      "Extracting data/t10k-images-idx3-ubyte.gz\n",
      "Extracting data/t10k-labels-idx1-ubyte.gz\n"
     ]
    }
   ],
   "source": [
    "#加载数据，加载的在input_data.py里面\n",
    "mnist = input_data.read_data_sets('data/', one_hot=True)"
   ]
  },
  {
   "cell_type": "code",
   "execution_count": 4,
   "metadata": {
    "collapsed": false
   },
   "outputs": [
    {
     "name": "stdout",
     "output_type": "stream",
     "text": [
      "NETWORK READ\n"
     ]
    }
   ],
   "source": [
    "# NETWORK TOPOLOGIES\n",
    "n_hidden_1 = 256 #第一个隐藏层的神经元数\n",
    "n_hidden_2 = 128 #第二个隐藏层的神经元数\n",
    "n_input    = 784 #输入的像素 28*28\n",
    "n_classes  = 10  #输出的label[0，0,0,0,0,1,0,0,0,0] one_hot\n",
    "# INPUTS AND OUTPUTS\n",
    "x=tf.placeholder(\"float\",[None,n_input],name='x')\n",
    "y=tf.placeholder(\"float\",[None,n_classes],name='y')\n",
    "\n",
    "#神经网络，设立2个隐藏，填充数据\n",
    "#标准偏差\n",
    "stddev=0.1\n",
    "#权重\n",
    "weights={\n",
    "    \"w1\":tf.Variable(tf.random_normal([n_input,n_hidden_1],stddev=stddev)),\n",
    "    \"w2\":tf.Variable(tf.random_normal([n_hidden_1,n_hidden_2],stddev=stddev)),\n",
    "    \"out\":tf.Variable(tf.random_normal([n_hidden_2,n_classes],stddev=stddev))\n",
    "}\n",
    "#偏置值\n",
    "biases={\n",
    "    \"b1\":tf.Variable(tf.random_normal([n_hidden_1])),\n",
    "    \"b2\":tf.Variable(tf.random_normal([n_hidden_2])),\n",
    "    \"out\":tf.Variable(tf.random_normal([n_classes]))\n",
    "}\n",
    "print (\"NETWORK READ\")"
   ]
  },
  {
   "cell_type": "code",
   "execution_count": 5,
   "metadata": {
    "collapsed": true
   },
   "outputs": [],
   "source": [
    "#s激活函数，进行数据的操作 （BP算法）\n",
    "def multilayer_perceotron(_X, _weights, _biases):\n",
    "    #sigmoid激活函数\n",
    "    layer_1=tf.nn.sigmoid(tf.add(tf.matmul(_X, _weights['w1']),_biases['b1']))#每次wx+b之后经过sigmoid函数激活\n",
    "    layer_2=tf.nn.sigmoid(tf.add(tf.matmul(layer_1, _weights['w2']),_biases['b2']))\n",
    "    return (tf.matmul(layer_2, _weights['out'])+_biases['out'])#返回的是10个输出"
   ]
  },
  {
   "cell_type": "code",
   "execution_count": null,
   "metadata": {
    "collapsed": true
   },
   "outputs": [],
   "source": []
  },
  {
   "cell_type": "code",
   "execution_count": 6,
   "metadata": {
    "collapsed": false
   },
   "outputs": [
    {
     "name": "stdout",
     "output_type": "stream",
     "text": [
      "FUNCTIONS READY\n"
     ]
    }
   ],
   "source": [
    "pred=multilayer_perceotron(x,weights,biases)\n",
    "\n",
    "#损失函数 softmax_cross_entropy_with_logits中0.x版本和1.x不同的是1.x要加logits和labels\n",
    "cost=tf.reduce_mean(tf.nn.softmax_cross_entropy_with_logits(logits=pred,labels=y))\n",
    "#执行GradientDescentOptimizer梯度下降以及minimize优化\n",
    "optm=tf.train.GradientDescentOptimizer(learning_rate=0.001).minimize(cost)\n",
    "#如果相等返回true，不等返回flase\n",
    "corr=tf.equal(tf.argmax(pred,1),tf.argmax(y,1))\n",
    "#把true转为1，false为0，再相加，计算总的（正确率）\n",
    "accr=tf.reduce_mean(tf.cast(corr,\"float\"))\n",
    "\n",
    "#初始化\n",
    "init=tf.global_variables_initializer()\n",
    "print (\"FUNCTIONS READY\")"
   ]
  },
  {
   "cell_type": "code",
   "execution_count": null,
   "metadata": {
    "collapsed": true
   },
   "outputs": [],
   "source": []
  },
  {
   "cell_type": "code",
   "execution_count": 7,
   "metadata": {
    "collapsed": false
   },
   "outputs": [
    {
     "name": "stdout",
     "output_type": "stream",
     "text": [
      "Epoch: 003/050 cost: 2.282196748\n",
      "TRAIN ACCURACY: 0.180\n",
      "TEST ACCURACY: 0.174\n",
      "Epoch: 007/050 cost: 2.248599563\n",
      "TRAIN ACCURACY: 0.250\n",
      "TEST ACCURACY: 0.256\n",
      "Epoch: 011/050 cost: 2.211589157\n",
      "TRAIN ACCURACY: 0.470\n",
      "TEST ACCURACY: 0.444\n",
      "Epoch: 015/050 cost: 2.168772541\n",
      "TRAIN ACCURACY: 0.490\n",
      "TEST ACCURACY: 0.500\n",
      "Epoch: 019/050 cost: 2.118086093\n",
      "TRAIN ACCURACY: 0.550\n",
      "TEST ACCURACY: 0.548\n",
      "Epoch: 023/050 cost: 2.057600164\n",
      "TRAIN ACCURACY: 0.510\n",
      "TEST ACCURACY: 0.577\n",
      "Epoch: 027/050 cost: 1.985774301\n",
      "TRAIN ACCURACY: 0.650\n",
      "TEST ACCURACY: 0.602\n",
      "Epoch: 031/050 cost: 1.902210318\n",
      "TRAIN ACCURACY: 0.600\n",
      "TEST ACCURACY: 0.625\n",
      "Epoch: 035/050 cost: 1.807948170\n",
      "TRAIN ACCURACY: 0.670\n",
      "TEST ACCURACY: 0.653\n",
      "Epoch: 039/050 cost: 1.705709283\n",
      "TRAIN ACCURACY: 0.680\n",
      "TEST ACCURACY: 0.669\n",
      "Epoch: 043/050 cost: 1.599369481\n",
      "TRAIN ACCURACY: 0.650\n",
      "TEST ACCURACY: 0.693\n",
      "Epoch: 047/050 cost: 1.493427125\n",
      "TRAIN ACCURACY: 0.800\n",
      "TEST ACCURACY: 0.711\n",
      "OPTIMIZATION FINISHED\n"
     ]
    }
   ],
   "source": [
    "#执行模型的训练\n",
    "training_epochs = 50#迭代的次数\n",
    "batch_size      = 100#每次处理的图片数\n",
    "display_step    = 4#每次次打印一次\n",
    "# LAUNCH THE GRAPH\n",
    "sess = tf.Session()\n",
    "sess.run(init)\n",
    "# OPTIMIZE\n",
    "for epoch in range(training_epochs):\n",
    "    avg_cost = 0.   #平均误差\n",
    "    total_batch = int(mnist.train.num_examples/batch_size)\n",
    "    # ITERATION  训练集循环次数确定\n",
    "    for i in range(total_batch):\n",
    "        #去除x和y的值\n",
    "        batch_xs, batch_ys = mnist.train.next_batch(batch_size)\n",
    "        feeds = {x: batch_xs, y: batch_ys}\n",
    "        sess.run(optm, feed_dict=feeds)\n",
    "        avg_cost += sess.run(cost, feed_dict=feeds)\n",
    "    #重新计算平均损失\n",
    "    avg_cost = avg_cost / total_batch\n",
    "    # DISPLAY  显示误差率和训练集的正确率以此测试集的正确率\n",
    "    if (epoch+1) % display_step == 0:\n",
    "        print (\"Epoch: %03d/%03d cost: %.9f\" % (epoch, training_epochs, avg_cost))\n",
    "        feeds = {x: batch_xs, y: batch_ys}\n",
    "        train_acc = sess.run(accr, feed_dict=feeds)\n",
    "        print (\"TRAIN ACCURACY: %.3f\" % (train_acc))\n",
    "        feeds = {x: mnist.test.images, y: mnist.test.labels}\n",
    "        test_acc = sess.run(accr, feed_dict=feeds)\n",
    "        print (\"TEST ACCURACY: %.3f\" % (test_acc))\n",
    "print (\"OPTIMIZATION FINISHED\")\n",
    "#最后的损失函数下降的不是很多，正确率也不高，需要加大迭代次数"
   ]
  },
  {
   "cell_type": "code",
   "execution_count": null,
   "metadata": {
    "collapsed": true
   },
   "outputs": [],
   "source": []
  },
  {
   "cell_type": "code",
   "execution_count": null,
   "metadata": {
    "collapsed": true
   },
   "outputs": [],
   "source": []
  },
  {
   "cell_type": "code",
   "execution_count": null,
   "metadata": {
    "collapsed": true
   },
   "outputs": [],
   "source": []
  },
  {
   "cell_type": "code",
   "execution_count": null,
   "metadata": {
    "collapsed": true
   },
   "outputs": [],
   "source": []
  },
  {
   "cell_type": "code",
   "execution_count": null,
   "metadata": {
    "collapsed": true
   },
   "outputs": [],
   "source": []
  },
  {
   "cell_type": "code",
   "execution_count": null,
   "metadata": {
    "collapsed": true
   },
   "outputs": [],
   "source": []
  },
  {
   "cell_type": "code",
   "execution_count": null,
   "metadata": {
    "collapsed": true
   },
   "outputs": [],
   "source": []
  }
 ],
 "metadata": {
  "anaconda-cloud": {},
  "kernelspec": {
   "display_name": "Python [conda root]",
   "language": "python",
   "name": "conda-root-py"
  },
  "language_info": {
   "codemirror_mode": {
    "name": "ipython",
    "version": 3
   },
   "file_extension": ".py",
   "mimetype": "text/x-python",
   "name": "python",
   "nbconvert_exporter": "python",
   "pygments_lexer": "ipython3",
   "version": "3.5.2"
  }
 },
 "nbformat": 4,
 "nbformat_minor": 1
}
