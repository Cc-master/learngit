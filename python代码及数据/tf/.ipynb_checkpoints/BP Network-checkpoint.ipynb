{
 "cells": [
  {
   "cell_type": "code",
   "execution_count": 2,
   "metadata": {
    "collapsed": false
   },
   "outputs": [],
   "source": [
    "import numpy as np\n",
    "import matplotlib.pyplot as plt\n",
    "\n",
    "#人数(单位：万人)\n",
    "population=[20.55,22.44,25.37,27.13,29.45,30.10,30.96,34.06,36.42,38.09,39.13,39.99,41.93,44.59,47.30,52.89,55.73,56.76,59.17,60.63]\n",
    "#机动车数(单位：万辆)\n",
    "vehicle=[0.6,0.75,0.85,0.9,1.05,1.35,1.45,1.6,1.7,1.85,2.15,2.2,2.25,2.35,2.5,2.6,2.7,2.85,2.95,3.1]\n",
    "#公路面积(单位：万平方公里)\n",
    "roadarea=[0.09,0.11,0.11,0.14,0.20,0.23,0.23,0.32,0.32,0.34,0.36,0.36,0.38,0.49,0.56,0.59,0.59,0.67,0.69,0.79]\n",
    "#公路客运量(单位：万人)\n",
    "passengertraffic=[5126,6217,7730,9145,10460,11387,12353,15750,18304,19836,21024,19490,20433,22598,25107,33442,36836,40548,42927,43462]\n",
    "#公路货运量(单位：万吨)\n",
    "freighttraffic=[1237,1379,1385,1399,1663,1714,1834,4322,8132,8936,11099,11203,10524,11115,13320,16762,18673,20724,20803,21804]"
   ]
  },
  {
   "cell_type": "code",
   "execution_count": 5,
   "metadata": {
    "collapsed": false
   },
   "outputs": [
    {
     "name": "stdout",
     "output_type": "stream",
     "text": [
      "[[ 20.55  60.63]\n",
      " [  0.6    3.1 ]\n",
      " [  0.09   0.79]]\n",
      "[[-1.         -0.90568862 -0.75948104 -0.67165669 -0.55588822 -0.52345309\n",
      "  -0.48053892 -0.3258483  -0.20808383 -0.1247505  -0.07285429 -0.02994012\n",
      "   0.06686627  0.1996008   0.33483034  0.61377246  0.75548902  0.80688623\n",
      "   0.92714571  1.        ]\n",
      " [-1.         -0.88       -0.8        -0.76       -0.64       -0.4        -0.32\n",
      "  -0.2        -0.12        0.          0.24        0.28        0.32        0.4\n",
      "   0.52        0.6         0.68        0.8         0.88        1.        ]\n",
      " [-1.         -0.94285714 -0.94285714 -0.85714286 -0.68571429 -0.6        -0.6\n",
      "  -0.34285714 -0.34285714 -0.28571429 -0.22857143 -0.22857143 -0.17142857\n",
      "   0.14285714  0.34285714  0.42857143  0.42857143  0.65714286  0.71428571\n",
      "   1.        ]]\n"
     ]
    }
   ],
   "source": [
    "samplein = np.mat([population,vehicle,roadarea]) \n",
    "'''\n",
    "[[ 20.55  22.44  25.37  27.13  29.45  30.1   30.96  34.06  36.42  38.09\n",
    "   39.13  39.99  41.93  44.59  47.3   52.89  55.73  56.76  59.17  60.63]\n",
    " [  0.6    0.75   0.85   0.9    1.05   1.35   1.45   1.6    1.7    1.85\n",
    "    2.15   2.2    2.25   2.35   2.5    2.6    2.7    2.85   2.95   3.1 ]\n",
    " [  0.09   0.11   0.11   0.14   0.2    0.23   0.23   0.32   0.32   0.34\n",
    "    0.36   0.36   0.38   0.49   0.56   0.59   0.59   0.67   0.69   0.79]]\n",
    "'''\n",
    "sampleinminmax = np.array([samplein.min(axis=1).T.tolist()[0],samplein.max(axis=1).T.tolist()[0]]).transpose()#3*2，对应最大值最小值\n",
    "'''\n",
    "[[ 20.55  60.63]\n",
    " [  0.6    3.1 ]\n",
    " [  0.09   0.79]]\n",
    "'''\n",
    "sampleout = np.mat([passengertraffic,freighttraffic])#2*20\n",
    "sampleoutminmax = np.array([sampleout.min(axis=1).T.tolist()[0],sampleout.max(axis=1).T.tolist()[0]]).transpose()#2*2，对应最大值最小值\n",
    "\n",
    "#标准化\n",
    "#3*20\n",
    "sampleinnorm = (2*(np.array(samplein.T)-sampleinminmax.T[0])/(sampleinminmax.T[1]-sampleinminmax.T[0])-1).transpose()\n",
    "'''\n",
    "[[-1.         -0.90568862 -0.75948104 -0.67165669 -0.55588822 -0.52345309\n",
    "  -0.48053892 -0.3258483  -0.20808383 -0.1247505  -0.07285429 -0.02994012\n",
    "   0.06686627  0.1996008   0.33483034  0.61377246  0.75548902  0.80688623\n",
    "   0.92714571  1.        ]\n",
    " [-1.         -0.88       -0.8        -0.76       -0.64       -0.4        -0.32\n",
    "  -0.2        -0.12        0.          0.24        0.28        0.32        0.4\n",
    "   0.52        0.6         0.68        0.8         0.88        1.        ]\n",
    " [-1.         -0.94285714 -0.94285714 -0.85714286 -0.68571429 -0.6        -0.6\n",
    "  -0.34285714 -0.34285714 -0.28571429 -0.22857143 -0.22857143 -0.17142857\n",
    "   0.14285714  0.34285714  0.42857143  0.42857143  0.65714286  0.71428571\n",
    "   1.        ]]\n",
    "'''\n",
    "#2*20\n",
    "sampleoutnorm = (2*(np.array(sampleout.T)-sampleoutminmax.T[0])/(sampleoutminmax.T[1]-sampleoutminmax.T[0])-1).transpose()\n",
    "\n",
    "#给输出样本添加噪音\n",
    "noise = 0.03*np.random.rand(sampleoutnorm.shape[0],sampleoutnorm.shape[1])\n",
    "sampleoutnorm += noise"
   ]
  },
  {
   "cell_type": "code",
   "execution_count": 11,
   "metadata": {
    "collapsed": true
   },
   "outputs": [
    {
     "data": {
      "text/plain": [
       "[60.63, 3.1, 0.79]"
      ]
     },
     "execution_count": 11,
     "metadata": {},
     "output_type": "execute_result"
    }
   ],
   "source": [
    "#超参数\n",
    "maxepochs = 60000\n",
    "learnrate = 0.035\n",
    "errorfinal = 0.65*10**(-3)\n",
    "samnum = 20\n",
    "indim = 3\n",
    "outdim = 2\n",
    "hiddenunitnum = 8\n",
    "\n",
    "# 网络设计\n",
    "w1 = 0.5*np.random.rand(hiddenunitnum,indim)-0.1\n",
    "b1 = 0.5*np.random.rand(hiddenunitnum,1)-0.1\n",
    "w2 = 0.5*np.random.rand(outdim,hiddenunitnum)-0.1\n",
    "b2 = 0.5*np.random.rand(outdim,1)-0.1\n",
    "\n",
    "def logsig(x):\n",
    "    return 1/(1+np.exp(-x))\n",
    "\n",
    "errhistory = []\n",
    "# BP算法遍历\n",
    "for i in range(maxepochs):\n",
    "    #隐藏层输出\n",
    "    hiddenout = logsig((np.dot(w1,sampleinnorm).transpose()+b1.transpose())).transpose()\n",
    "    # 输出层输出\n",
    "    networkout = (np.dot(w2,hiddenout).transpose()+b2.transpose()).transpose()\n",
    "    # 错误\n",
    "    err = sampleoutnorm - networkout\n",
    "    sse = sum(sum(err**2))\n",
    "\n",
    "    errhistory.append(sse)\n",
    "    if sse < errorfinal:\n",
    "        break\n",
    "\n",
    "    delta2 = err\n",
    "\n",
    "    delta1 = np.dot(w2.transpose(),delta2)*hiddenout*(1-hiddenout)\n",
    "\n",
    "    dw2 = np.dot(delta2,hiddenout.transpose())\n",
    "    db2 = np.dot(delta2,np.ones((samnum,1)))\n",
    "\n",
    "    dw1 = np.dot(delta1,sampleinnorm.transpose())\n",
    "    db1 = np.dot(delta1,np.ones((samnum,1)))\n",
    "\n",
    "    w2 += learnrate*dw2\n",
    "    b2 += learnrate*db2\n",
    "\n",
    "    w1 += learnrate*dw1\n",
    "    b1 += learnrate*db1"
   ]
  },
  {
   "cell_type": "code",
   "execution_count": 15,
   "metadata": {
    "collapsed": true
   },
   "outputs": [
    {
     "data": {
      "text/plain": [
       "array([[ 20.55,  60.63],\n",
       "       [  0.6 ,   3.1 ],\n",
       "       [  0.09,   0.79]])"
      ]
     },
     "execution_count": 15,
     "metadata": {},
     "output_type": "execute_result"
    }
   ],
   "source": [
    "# 误差曲线图\n",
    "errhistory10 = np.log10(errhistory)\n",
    "minerr = min(errhistory10)\n",
    "plt.plot(errhistory10)\n",
    "plt.plot(range(0,i+1000,1000),[minerr]*len(range(0,i+1000,1000)))\n",
    "\n",
    "ax=plt.gca()\n",
    "ax.set_yticks([-2,-1,0,1,2,minerr])\n",
    "ax.set_yticklabels([u'$10^{-2}$',u'$10^{-1}$',u'$1$',u'$10^{1}$',u'$10^{2}$',str(('%.4f'%np.power(10,minerr)))])\n",
    "ax.set_xlabel('iteration')\n",
    "ax.set_ylabel('error')\n",
    "ax.set_title('Error History')\n",
    "#plt.savefig('errorhistory.png',dpi=700)\n",
    "plt.show()"
   ]
  },
  {
   "cell_type": "code",
   "execution_count": null,
   "metadata": {
    "collapsed": true
   },
   "outputs": [],
   "source": [
    "# 仿真输出和实际输出对比图\n",
    "hiddenout = logsig((np.dot(w1,sampleinnorm).transpose()+b1.transpose())).transpose()\n",
    "networkout = (np.dot(w2,hiddenout).transpose()+b2.transpose()).transpose()\n",
    "diff = sampleoutminmax[:,1]-sampleoutminmax[:,0]\n",
    "networkout2 = (networkout+1)/2\n",
    "networkout2[0] = networkout2[0]*diff[0]+sampleoutminmax[0][0]\n",
    "networkout2[1] = networkout2[1]*diff[1]+sampleoutminmax[1][0]\n",
    "\n",
    "sampleout = np.array(sampleout)\n",
    "\n",
    "fig,axes = plt.subplots(nrows=2,ncols=1,figsize=(12,10))\n",
    "line1, =axes[0].plot(networkout2[0],'k',marker = u'$\\circ$')\n",
    "line2, = axes[0].plot(sampleout[0],'r',markeredgecolor='b',marker = u'$\\star$',markersize=9)\n",
    "\n",
    "axes[0].legend((line1,line2),('simulation output','real output'),loc = 'upper left')\n",
    "\n",
    "yticks = [0,20000,40000,60000]\n",
    "ytickslabel = [u'$0$',u'$2$',u'$4$',u'$6$']\n",
    "axes[0].set_yticks(yticks)\n",
    "axes[0].set_yticklabels(ytickslabel)\n",
    "axes[0].set_ylabel(u'passenger traffic$(10^4)$')\n",
    "\n",
    "xticks = range(0,20,2)\n",
    "xtickslabel = range(1990,2010,2)\n",
    "axes[0].set_xticks(xticks)\n",
    "axes[0].set_xticklabels(xtickslabel)\n",
    "axes[0].set_xlabel(u'year')\n",
    "axes[0].set_title('Passenger Traffic Simulation')\n",
    "\n",
    "line3, = axes[1].plot(networkout2[1],'k',marker = u'$\\circ$')\n",
    "line4, = axes[1].plot(sampleout[1],'r',markeredgecolor='b',marker = u'$\\star$',markersize=9)\n",
    "axes[1].legend((line3,line4),('simulation output','real output'),loc = 'upper left')\n",
    "yticks = [0,10000,20000,30000]\n",
    "ytickslabel = [u'$0$',u'$1$',u'$2$',u'$3$']\n",
    "axes[1].set_yticks(yticks)\n",
    "axes[1].set_yticklabels(ytickslabel)\n",
    "axes[1].set_ylabel(u'freight traffic$(10^4)$')\n",
    "\n",
    "xticks = range(0,20,2)\n",
    "xtickslabel = range(1990,2010,2)\n",
    "axes[1].set_xticks(xticks)\n",
    "axes[1].set_xticklabels(xtickslabel)\n",
    "axes[1].set_xlabel(u'year')\n",
    "axes[1].set_title('Freight Traffic Simulation')\n",
    "\n",
    "#fig.savefig('simulation.png',dpi=500,bbox_inches='tight')\n",
    "plt.show()"
   ]
  }
 ],
 "metadata": {
  "anaconda-cloud": {},
  "kernelspec": {
   "display_name": "Python [default]",
   "language": "python",
   "name": "python3"
  },
  "language_info": {
   "codemirror_mode": {
    "name": "ipython",
    "version": 3
   },
   "file_extension": ".py",
   "mimetype": "text/x-python",
   "name": "python",
   "nbconvert_exporter": "python",
   "pygments_lexer": "ipython3",
   "version": "3.5.2"
  }
 },
 "nbformat": 4,
 "nbformat_minor": 1
}
